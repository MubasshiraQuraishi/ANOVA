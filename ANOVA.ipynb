{
 "cells": [
  {
   "cell_type": "code",
   "execution_count": 1,
   "id": "c6734f3c",
   "metadata": {},
   "outputs": [],
   "source": [
    "import numpy as np\n",
    "import pandas as pd\n",
    "import matplotlib.pyplot as plt\n",
    "import seaborn as sns\n",
    "import warnings\n",
    "warnings.filterwarnings(\"ignore\")"
   ]
  },
  {
   "cell_type": "code",
   "execution_count": 2,
   "id": "4c5e53c3",
   "metadata": {},
   "outputs": [
    {
     "data": {
      "text/html": [
       "<div>\n",
       "<style scoped>\n",
       "    .dataframe tbody tr th:only-of-type {\n",
       "        vertical-align: middle;\n",
       "    }\n",
       "\n",
       "    .dataframe tbody tr th {\n",
       "        vertical-align: top;\n",
       "    }\n",
       "\n",
       "    .dataframe thead th {\n",
       "        text-align: right;\n",
       "    }\n",
       "</style>\n",
       "<table border=\"1\" class=\"dataframe\">\n",
       "  <thead>\n",
       "    <tr style=\"text-align: right;\">\n",
       "      <th></th>\n",
       "      <th>Campaign_ID</th>\n",
       "      <th>Company</th>\n",
       "      <th>Campaign_Type</th>\n",
       "      <th>Target_Audience</th>\n",
       "      <th>Duration</th>\n",
       "      <th>Channel_Used</th>\n",
       "      <th>Conversion_Rate</th>\n",
       "      <th>Acquisition_Cost</th>\n",
       "      <th>ROI</th>\n",
       "      <th>Location</th>\n",
       "      <th>Language</th>\n",
       "      <th>Clicks</th>\n",
       "      <th>Impressions</th>\n",
       "      <th>Engagement_Score</th>\n",
       "      <th>Customer_Segment</th>\n",
       "      <th>Date</th>\n",
       "    </tr>\n",
       "  </thead>\n",
       "  <tbody>\n",
       "    <tr>\n",
       "      <th>0</th>\n",
       "      <td>1</td>\n",
       "      <td>Innovate Industries</td>\n",
       "      <td>Email</td>\n",
       "      <td>Men 18-24</td>\n",
       "      <td>30 days</td>\n",
       "      <td>Google Ads</td>\n",
       "      <td>0.04</td>\n",
       "      <td>16174.0</td>\n",
       "      <td>6.29</td>\n",
       "      <td>Chicago</td>\n",
       "      <td>Spanish</td>\n",
       "      <td>506</td>\n",
       "      <td>1922</td>\n",
       "      <td>6</td>\n",
       "      <td>Health &amp; Wellness</td>\n",
       "      <td>01-01-2021</td>\n",
       "    </tr>\n",
       "    <tr>\n",
       "      <th>1</th>\n",
       "      <td>2</td>\n",
       "      <td>NexGen Systems</td>\n",
       "      <td>Email</td>\n",
       "      <td>Women 35-44</td>\n",
       "      <td>60 days</td>\n",
       "      <td>Google Ads</td>\n",
       "      <td>0.12</td>\n",
       "      <td>11566.0</td>\n",
       "      <td>5.61</td>\n",
       "      <td>New York</td>\n",
       "      <td>German</td>\n",
       "      <td>116</td>\n",
       "      <td>7523</td>\n",
       "      <td>7</td>\n",
       "      <td>Fashionistas</td>\n",
       "      <td>02-01-2021</td>\n",
       "    </tr>\n",
       "  </tbody>\n",
       "</table>\n",
       "</div>"
      ],
      "text/plain": [
       "   Campaign_ID              Company Campaign_Type Target_Audience Duration  \\\n",
       "0            1  Innovate Industries         Email       Men 18-24  30 days   \n",
       "1            2       NexGen Systems         Email     Women 35-44  60 days   \n",
       "\n",
       "  Channel_Used  Conversion_Rate  Acquisition_Cost   ROI  Location Language  \\\n",
       "0   Google Ads             0.04           16174.0  6.29   Chicago  Spanish   \n",
       "1   Google Ads             0.12           11566.0  5.61  New York   German   \n",
       "\n",
       "   Clicks  Impressions  Engagement_Score   Customer_Segment        Date  \n",
       "0     506         1922                 6  Health & Wellness  01-01-2021  \n",
       "1     116         7523                 7       Fashionistas  02-01-2021  "
      ]
     },
     "execution_count": 2,
     "metadata": {},
     "output_type": "execute_result"
    }
   ],
   "source": [
    "df = pd.read_csv('C:\\\\Users\\\\Mubasshira\\\\Downloads\\\\marketing_campaign_dataset.csv')\n",
    "df.head(2)"
   ]
  },
  {
   "cell_type": "markdown",
   "id": "100eeada",
   "metadata": {},
   "source": [
    "# One-Way ANOVA"
   ]
  },
  {
   "cell_type": "code",
   "execution_count": 3,
   "id": "60de8579",
   "metadata": {
    "scrolled": false
   },
   "outputs": [
    {
     "name": "stdout",
     "output_type": "stream",
     "text": [
      "Levene Statistic: 1.4735454142821123\n",
      "P-value: 0.20719589144227887\n",
      "Variances are equal — assumption met.\n"
     ]
    }
   ],
   "source": [
    "#Does the average Conversion Rate differ across different Campaign Types?\n",
    "from scipy.stats import levene\n",
    "group1 = df[df['Campaign_Type'] == \"Influencer\"]['Conversion_Rate']\n",
    "group2 = df[df['Campaign_Type'] == \"Search\"]['Conversion_Rate']\n",
    "group3 = df[df['Campaign_Type'] == \"Email\"]['Conversion_Rate']\n",
    "group4 = df[df['Campaign_Type'] == \"Display\"]['Conversion_Rate']\n",
    "group5 = df[df['Campaign_Type'] == \"Social Media\"]['Conversion_Rate']\n",
    "\n",
    "stat, pval = levene(group1, group2, group3, group4, group5)\n",
    "\n",
    "print(\"Levene Statistic:\", stat)\n",
    "print(\"P-value:\", pval)\n",
    "\n",
    "if pval < 0.05:\n",
    "    print(\"Variances are significantly different — assumption violated.\")\n",
    "else:\n",
    "    print(\"Variances are equal — assumption met.\")"
   ]
  },
  {
   "cell_type": "code",
   "execution_count": 4,
   "id": "2ad5c895",
   "metadata": {},
   "outputs": [
    {
     "name": "stdout",
     "output_type": "stream",
     "text": [
      "F Statistic: 0.8872620760594464\n",
      "P-value: 0.4704618058592427\n",
      "The average Conversion Rate is the same across all Campaign Types.\n",
      "--------------------------------------------------------------\n",
      "     Multiple Comparison of Means - Tukey HSD, FWER=0.05     \n",
      "=============================================================\n",
      "  group1      group2    meandiff p-adj   lower  upper  reject\n",
      "-------------------------------------------------------------\n",
      "   Display        Email  -0.0003  0.834 -0.0011 0.0005  False\n",
      "   Display   Influencer   0.0002 0.9341 -0.0006  0.001  False\n",
      "   Display       Search  -0.0001 0.9993 -0.0009 0.0007  False\n",
      "   Display Social Media      0.0 0.9999 -0.0007 0.0008  False\n",
      "     Email   Influencer   0.0005 0.3535 -0.0003 0.0013  False\n",
      "     Email       Search   0.0002 0.9273 -0.0006  0.001  False\n",
      "     Email Social Media   0.0003 0.7487 -0.0004 0.0011  False\n",
      "Influencer       Search  -0.0003 0.8438 -0.0011 0.0005  False\n",
      "Influencer Social Media  -0.0002 0.9708  -0.001 0.0006  False\n",
      "    Search Social Media   0.0001 0.9948 -0.0007 0.0009  False\n",
      "-------------------------------------------------------------\n"
     ]
    }
   ],
   "source": [
    "#H₀ : The average Conversion Rate is the same across all Campaign Types.\n",
    "#H₁ : At least one Campaign Type has a different average Conversion Rate compared to the others.\n",
    "\n",
    "from scipy.stats import f_oneway\n",
    "grouped_data = [group['Conversion_Rate'].values for name, group in df.groupby('Campaign_Type')]\n",
    "f_stat, pval = f_oneway(*grouped_data)\n",
    "\n",
    "print(\"F Statistic:\", f_stat)\n",
    "print(\"P-value:\", pval)\n",
    "\n",
    "if pval < 0.05:\n",
    "    print(\"At least one Campaign Type has a different average Conversion Rate compared to the others\")\n",
    "else:\n",
    "    print(\"The average Conversion Rate is the same across all Campaign Types.\")\n",
    "\n",
    "print(\"--------------------------------------------------------------\")\n",
    "from statsmodels.stats.multicomp import pairwise_tukeyhsd\n",
    "tukey_test = pairwise_tukeyhsd(df['Conversion_Rate'], df['Campaign_Type'], alpha=0.05)\n",
    "print(tukey_test)"
   ]
  },
  {
   "cell_type": "code",
   "execution_count": 5,
   "id": "46ebe299",
   "metadata": {},
   "outputs": [
    {
     "name": "stdout",
     "output_type": "stream",
     "text": [
      "Levene Statistic: 0.3893075762532167\n",
      "P-value: 0.8164574566132856\n",
      "Variances are equal — assumption met.\n",
      "----------------------------------------------------------------\n",
      "F Statistic: 0.06325738303040701\n",
      "P-value: 0.9926409718272996\n",
      "ROI among different Customer Segments is the same\n"
     ]
    }
   ],
   "source": [
    "#Is there a significant difference in ROI among different Customer Segments?\n",
    "groups = [df[df['Customer_Segment'] == cs]['ROI'] for cs in df['Customer_Segment'].unique()]\n",
    "stat, pval = levene(*groups)\n",
    "\n",
    "print(\"Levene Statistic:\", stat)\n",
    "print(\"P-value:\", pval)\n",
    "\n",
    "if pval < 0.05:\n",
    "    print(\"Variances are significantly different — assumption violated.\")\n",
    "else:\n",
    "    print(\"Variances are equal — assumption met.\")\n",
    "\n",
    "print('----------------------------------------------------------------')\n",
    "#H₀ : ROI among different Customer Segments is the same.\n",
    "#H₁ : There is a significant difference in ROI among different Customer Segments.\n",
    "f_stat, pval = f_oneway(*groups)\n",
    "print(\"F Statistic:\", f_stat)\n",
    "print(\"P-value:\", pval)\n",
    "\n",
    "if pval < 0.05:\n",
    "    print(\"There is a significant difference in ROI among different Customer Segments\")\n",
    "else:\n",
    "    print(\"ROI among different Customer Segments is the same\")"
   ]
  },
  {
   "cell_type": "code",
   "execution_count": 15,
   "id": "b3848259",
   "metadata": {},
   "outputs": [
    {
     "name": "stdout",
     "output_type": "stream",
     "text": [
      "Levene Statistic: 0.9939507995966484\n",
      "P-value: 0.4195856130476713\n",
      "Variances are equal — assumption met.\n",
      "--------------------------------------------------------\n",
      "F Statistic: 0.728070340697545\n",
      "P-value: 0.6022658988253544\n",
      "The mean Acquisition Cost is the same across all Channels Used.\n"
     ]
    }
   ],
   "source": [
    "#Do Acquisition Costs vary significantly by Channel Used?\n",
    "groups = [df[df['Channel_Used'] == cu]['Acquisition_Cost'] for cu in df['Channel_Used'].unique()]\n",
    "stat, pval = levene(*groups)\n",
    "\n",
    "print(\"Levene Statistic:\", stat)\n",
    "print(\"P-value:\", pval)\n",
    "\n",
    "if pval < 0.05:\n",
    "    print(\"Variances are significantly different — assumption violated.\")\n",
    "else:\n",
    "    print(\"Variances are equal — assumption met.\")\n",
    "\n",
    "print('--------------------------------------------------------')\n",
    "#H₀ : The mean Acquisition Cost is the same across all Channels Used.\n",
    "#H₁ : At least one Channel has a different mean Acquisition Cost compared to the others.\n",
    "f_stat, pval = f_oneway(*groups)\n",
    "print(\"F Statistic:\", f_stat)\n",
    "print(\"P-value:\", pval)\n",
    "\n",
    "if pval < 0.05:\n",
    "    print(\"At least one Channel has a different mean Acquisition Cost compared to the others.\")\n",
    "else:\n",
    "    print(\"The mean Acquisition Cost is the same across all Channels Used.\")\n"
   ]
  },
  {
   "cell_type": "code",
   "execution_count": 33,
   "id": "9df5ad67",
   "metadata": {
    "scrolled": true
   },
   "outputs": [
    {
     "name": "stdout",
     "output_type": "stream",
     "text": [
      "Levene Statistic: 1.1230460207376776\n",
      "P-value: 0.34347857761854006\n",
      "Variances are equal — assumption met.\n",
      "--------------------------------------------------------\n",
      "F Statistic: 1.1490581513155902\n",
      "P-value: 0.3312922306835115\n",
      "There is no difference in Engagement Score between Language groups\n"
     ]
    }
   ],
   "source": [
    "#Is there a difference in Engagement Score between Language groups?\n",
    "groups = [df[df['Language'] == l]['Engagement_Score'] for l in df['Language'].unique()]\n",
    "stat, pval = levene(*groups)\n",
    "\n",
    "print(\"Levene Statistic:\", stat)\n",
    "print(\"P-value:\", pval)\n",
    "\n",
    "if pval < 0.05:\n",
    "    print(\"Variances are significantly different — assumption violated.\")\n",
    "else:\n",
    "    print(\"Variances are equal — assumption met.\")\n",
    "\n",
    "print('--------------------------------------------------------')\n",
    "#H₀ : There is no difference in Engagement Score between Language groups\n",
    "#H₁ : At least one language group have a different engagement score compared to the others.\n",
    "f_stat, pval = f_oneway(*groups)\n",
    "print(\"F Statistic:\", f_stat)\n",
    "print(\"P-value:\", pval)\n",
    "\n",
    "if pval < 0.05:\n",
    "    print(\"At least one language group have a different engagement score compared to the others\")\n",
    "else:\n",
    "    print(\"There is no difference in Engagement Score between Language groups\")\n"
   ]
  },
  {
   "cell_type": "code",
   "execution_count": 34,
   "id": "5f6410df",
   "metadata": {},
   "outputs": [
    {
     "name": "stdout",
     "output_type": "stream",
     "text": [
      "Kruskal-Wallis Statistic: 4.605699891293212\n",
      "P-value: 0.3301975292909653\n"
     ]
    }
   ],
   "source": [
    "#I know that data is not normally distributed, just understanding how one way ANOVA works.\n",
    "#If data is non normal we'll use Kruskal Wallis Test as applied below\n",
    "from scipy.stats import kruskal\n",
    "stat, pval = kruskal(*groups)\n",
    "\n",
    "print(\"Kruskal-Wallis Statistic:\", stat)\n",
    "print(\"P-value:\", pval)\n"
   ]
  },
  {
   "cell_type": "markdown",
   "id": "d286bfe0",
   "metadata": {},
   "source": [
    "# Two Way ANOVA"
   ]
  },
  {
   "cell_type": "code",
   "execution_count": 26,
   "id": "c93bbccc",
   "metadata": {
    "scrolled": false
   },
   "outputs": [
    {
     "name": "stdout",
     "output_type": "stream",
     "text": [
      "Check for equal variance\n",
      "Levene Statistic: 0.9899054731403699\n",
      "P-value: 0.4803933623774792\n",
      "Variances are equal — assumption met.\n",
      "------------------------------\n",
      "Check for normality\n",
      "('Display',) — W-stat: 0.9517, p-value: 0.0000\n",
      "('Email',) — W-stat: 0.9516, p-value: 0.0000\n",
      "('Influencer',) — W-stat: 0.9530, p-value: 0.0000\n",
      "('Search',) — W-stat: 0.9525, p-value: 0.0000\n",
      "('Social Media',) — W-stat: 0.9523, p-value: 0.0000\n",
      "('Email',) — W-stat: 0.9530, p-value: 0.0000\n",
      "('Facebook',) — W-stat: 0.9527, p-value: 0.0000\n",
      "('Google Ads',) — W-stat: 0.9519, p-value: 0.0000\n",
      "('Instagram',) — W-stat: 0.9523, p-value: 0.0000\n",
      "('Website',) — W-stat: 0.9520, p-value: 0.0000\n",
      "('YouTube',) — W-stat: 0.9518, p-value: 0.0000\n"
     ]
    }
   ],
   "source": [
    "#Does Conversion Rate vary based on both Campaign Type and Channel Used?\n",
    "print(\"Check for equal variance\")\n",
    "groups = [group['Conversion_Rate'].values for name, group in df.groupby(['Campaign_Type', 'Channel_Used'])]\n",
    "stat, pval = levene(*groups)\n",
    "\n",
    "print(\"Levene Statistic:\", stat)\n",
    "print(\"P-value:\", pval)\n",
    "\n",
    "if pval < 0.05:\n",
    "    print(\"Variances are significantly different — assumption violated.\")\n",
    "else:\n",
    "    print(\"Variances are equal — assumption met.\")\n",
    "print(\"------------------------------\")\n",
    "print(\"Check for normality\")\n",
    "from scipy.stats import shapiro\n",
    "\n",
    "# Applying Shapiro test for each group of the dependent variable\n",
    "for name, group in df.groupby(['Campaign_Type']):\n",
    "    stat, pval = shapiro(group['Conversion_Rate'])\n",
    "    print(f\"{name} — W-stat: {stat:.4f}, p-value: {pval:.4f}\")\n",
    "    \n",
    "for name, group in df.groupby(['Channel_Used']):\n",
    "    stat, pval = shapiro(group['Conversion_Rate'])\n",
    "    print(f\"{name} — W-stat: {stat:.4f}, p-value: {pval:.4f}\")"
   ]
  },
  {
   "cell_type": "code",
   "execution_count": 23,
   "id": "a90f0af6",
   "metadata": {},
   "outputs": [
    {
     "name": "stdout",
     "output_type": "stream",
     "text": [
      "                 Generalized Linear Model Regression Results                  \n",
      "==============================================================================\n",
      "Dep. Variable:        Conversion_Rate   No. Observations:               200000\n",
      "Model:                            GLM   Df Residuals:                   199970\n",
      "Model Family:                Gaussian   Df Model:                           29\n",
      "Link Function:               Identity   Scale:                       0.0016486\n",
      "Method:                          IRLS   Log-Likelihood:             3.5701e+05\n",
      "Date:                Thu, 17 Apr 2025   Deviance:                       329.67\n",
      "Time:                        06:48:47   Pearson chi2:                     330.\n",
      "No. Iterations:                     3   Pseudo R-squ. (CS):          7.993e-05\n",
      "Covariance Type:            nonrobust                                         \n",
      "==================================================================================================================================\n",
      "                                                                     coef    std err          z      P>|z|      [0.025      0.975]\n",
      "----------------------------------------------------------------------------------------------------------------------------------\n",
      "Intercept                                                          0.0801      0.000    161.438      0.000       0.079       0.081\n",
      "C(Campaign_Type)[T.Email]                                         -0.0005      0.001     -0.766      0.444      -0.002       0.001\n",
      "C(Campaign_Type)[T.Influencer]                                     0.0012      0.001      1.669      0.095      -0.000       0.003\n",
      "C(Campaign_Type)[T.Search]                                        -0.0001      0.001     -0.179      0.858      -0.001       0.001\n",
      "C(Campaign_Type)[T.Social Media]                                   0.0005      0.001      0.760      0.448      -0.001       0.002\n",
      "C(Channel_Used)[T.Facebook]                                       -0.0002      0.001     -0.213      0.831      -0.002       0.001\n",
      "C(Channel_Used)[T.Google Ads]                                  -9.738e-05      0.001     -0.138      0.890      -0.001       0.001\n",
      "C(Channel_Used)[T.Instagram]                                      -0.0001      0.001     -0.168      0.867      -0.001       0.001\n",
      "C(Channel_Used)[T.Website]                                         0.0004      0.001      0.527      0.598      -0.001       0.002\n",
      "C(Channel_Used)[T.YouTube]                                      7.861e-05      0.001      0.112      0.911      -0.001       0.001\n",
      "C(Campaign_Type)[T.Email]:C(Channel_Used)[T.Facebook]              0.0005      0.001      0.473      0.636      -0.001       0.002\n",
      "C(Campaign_Type)[T.Influencer]:C(Channel_Used)[T.Facebook]        -0.0009      0.001     -0.944      0.345      -0.003       0.001\n",
      "C(Campaign_Type)[T.Search]:C(Channel_Used)[T.Facebook]             0.0005      0.001      0.470      0.638      -0.001       0.002\n",
      "C(Campaign_Type)[T.Social Media]:C(Channel_Used)[T.Facebook]      -0.0007      0.001     -0.702      0.483      -0.003       0.001\n",
      "C(Campaign_Type)[T.Email]:C(Channel_Used)[T.Google Ads]            0.0007      0.001      0.674      0.500      -0.001       0.003\n",
      "C(Campaign_Type)[T.Influencer]:C(Channel_Used)[T.Google Ads]      -0.0008      0.001     -0.819      0.413      -0.003       0.001\n",
      "C(Campaign_Type)[T.Search]:C(Channel_Used)[T.Google Ads]           0.0008      0.001      0.757      0.449      -0.001       0.003\n",
      "C(Campaign_Type)[T.Social Media]:C(Channel_Used)[T.Google Ads]    -0.0006      0.001     -0.630      0.529      -0.003       0.001\n",
      "C(Campaign_Type)[T.Email]:C(Channel_Used)[T.Instagram]             0.0006      0.001      0.570      0.568      -0.001       0.003\n",
      "C(Campaign_Type)[T.Influencer]:C(Channel_Used)[T.Instagram]       -0.0013      0.001     -1.271      0.204      -0.003       0.001\n",
      "C(Campaign_Type)[T.Search]:C(Channel_Used)[T.Instagram]         -6.87e-05      0.001     -0.069      0.945      -0.002       0.002\n",
      "C(Campaign_Type)[T.Social Media]:C(Channel_Used)[T.Instagram]     -0.0006      0.001     -0.637      0.524      -0.003       0.001\n",
      "C(Campaign_Type)[T.Email]:C(Channel_Used)[T.Website]            3.168e-05      0.001      0.032      0.975      -0.002       0.002\n",
      "C(Campaign_Type)[T.Influencer]:C(Channel_Used)[T.Website]         -0.0014      0.001     -1.394      0.163      -0.003       0.001\n",
      "C(Campaign_Type)[T.Search]:C(Channel_Used)[T.Website]             -0.0004      0.001     -0.406      0.685      -0.002       0.002\n",
      "C(Campaign_Type)[T.Social Media]:C(Channel_Used)[T.Website]       -0.0006      0.001     -0.590      0.555      -0.003       0.001\n",
      "C(Campaign_Type)[T.Email]:C(Channel_Used)[T.YouTube]              -0.0003      0.001     -0.328      0.743      -0.002       0.002\n",
      "C(Campaign_Type)[T.Influencer]:C(Channel_Used)[T.YouTube]         -0.0013      0.001     -1.278      0.201      -0.003       0.001\n",
      "C(Campaign_Type)[T.Search]:C(Channel_Used)[T.YouTube]             -0.0004      0.001     -0.403      0.687      -0.002       0.002\n",
      "C(Campaign_Type)[T.Social Media]:C(Channel_Used)[T.YouTube]       -0.0004      0.001     -0.381      0.703      -0.002       0.002\n",
      "==================================================================================================================================\n"
     ]
    }
   ],
   "source": [
    "#since p-value is < 0.05 the data is not normally distributed. Thus using GLM for hypothesis \n",
    "import statsmodels.api as sm\n",
    "from statsmodels.formula.api import glm\n",
    "\n",
    "model = glm('Conversion_Rate ~ C(Campaign_Type) + C(Channel_Used) + C(Campaign_Type):C(Channel_Used)', \n",
    "            data=df, \n",
    "            family=sm.families.Gaussian()).fit()\n",
    "\n",
    "print(model.summary())"
   ]
  },
  {
   "cell_type": "markdown",
   "id": "2d4946a6",
   "metadata": {},
   "source": [
    "**\"We tested whether different campaign types, channels, and their interactions significantly affect conversion rate. Although the model ran fine and assumptions of equal variance were met, the data is not normally distributed. Still, we used a GLM to handle this. However, the results show that no single campaign or channel had a statistically significant impact on conversion rates — all p-values > 0.05. Also, the model explains virtually none of the variability (Pseudo R² = 0.00008).\"**"
   ]
  },
  {
   "cell_type": "code",
   "execution_count": 24,
   "id": "af555f5d",
   "metadata": {},
   "outputs": [
    {
     "data": {
      "text/html": [
       "<div>\n",
       "<style scoped>\n",
       "    .dataframe tbody tr th:only-of-type {\n",
       "        vertical-align: middle;\n",
       "    }\n",
       "\n",
       "    .dataframe tbody tr th {\n",
       "        vertical-align: top;\n",
       "    }\n",
       "\n",
       "    .dataframe thead th {\n",
       "        text-align: right;\n",
       "    }\n",
       "</style>\n",
       "<table border=\"1\" class=\"dataframe\">\n",
       "  <thead>\n",
       "    <tr style=\"text-align: right;\">\n",
       "      <th></th>\n",
       "      <th>Campaign_ID</th>\n",
       "      <th>Company</th>\n",
       "      <th>Campaign_Type</th>\n",
       "      <th>Target_Audience</th>\n",
       "      <th>Duration</th>\n",
       "      <th>Channel_Used</th>\n",
       "      <th>Conversion_Rate</th>\n",
       "      <th>Acquisition_Cost</th>\n",
       "      <th>ROI</th>\n",
       "      <th>Location</th>\n",
       "      <th>Language</th>\n",
       "      <th>Clicks</th>\n",
       "      <th>Impressions</th>\n",
       "      <th>Engagement_Score</th>\n",
       "      <th>Customer_Segment</th>\n",
       "      <th>Date</th>\n",
       "    </tr>\n",
       "  </thead>\n",
       "  <tbody>\n",
       "    <tr>\n",
       "      <th>0</th>\n",
       "      <td>1</td>\n",
       "      <td>Innovate Industries</td>\n",
       "      <td>Email</td>\n",
       "      <td>Men 18-24</td>\n",
       "      <td>30 days</td>\n",
       "      <td>Google Ads</td>\n",
       "      <td>0.04</td>\n",
       "      <td>16174.0</td>\n",
       "      <td>6.29</td>\n",
       "      <td>Chicago</td>\n",
       "      <td>Spanish</td>\n",
       "      <td>506</td>\n",
       "      <td>1922</td>\n",
       "      <td>6</td>\n",
       "      <td>Health &amp; Wellness</td>\n",
       "      <td>01-01-2021</td>\n",
       "    </tr>\n",
       "  </tbody>\n",
       "</table>\n",
       "</div>"
      ],
      "text/plain": [
       "   Campaign_ID              Company Campaign_Type Target_Audience Duration  \\\n",
       "0            1  Innovate Industries         Email       Men 18-24  30 days   \n",
       "\n",
       "  Channel_Used  Conversion_Rate  Acquisition_Cost   ROI Location Language  \\\n",
       "0   Google Ads             0.04           16174.0  6.29  Chicago  Spanish   \n",
       "\n",
       "   Clicks  Impressions  Engagement_Score   Customer_Segment        Date  \n",
       "0     506         1922                 6  Health & Wellness  01-01-2021  "
      ]
     },
     "execution_count": 24,
     "metadata": {},
     "output_type": "execute_result"
    }
   ],
   "source": [
    "df.head(1)"
   ]
  },
  {
   "cell_type": "code",
   "execution_count": 25,
   "id": "4630d4ae",
   "metadata": {},
   "outputs": [
    {
     "name": "stdout",
     "output_type": "stream",
     "text": [
      "Check for equal variance\n",
      "Levene Statistic: 0.7010594640005998\n",
      "P-value: 0.8560023614601734\n",
      "Variances are equal — assumption met.\n",
      "------------------------------\n",
      "Check for normality\n",
      "('Fashionistas',) — W-stat: 0.9538, p-value: 0.0000\n",
      "('Foodies',) — W-stat: 0.9548, p-value: 0.0000\n",
      "('Health & Wellness',) — W-stat: 0.9545, p-value: 0.0000\n",
      "('Outdoor Adventurers',) — W-stat: 0.9548, p-value: 0.0000\n",
      "('Tech Enthusiasts',) — W-stat: 0.9548, p-value: 0.0000\n",
      "('English',) — W-stat: 0.9546, p-value: 0.0000\n",
      "('French',) — W-stat: 0.9552, p-value: 0.0000\n",
      "('German',) — W-stat: 0.9546, p-value: 0.0000\n",
      "('Mandarin',) — W-stat: 0.9544, p-value: 0.0000\n",
      "('Spanish',) — W-stat: 0.9538, p-value: 0.0000\n"
     ]
    }
   ],
   "source": [
    "#Is there an interaction between Customer Segment and Language on ROI?\n",
    "print(\"Check for equal variance\")\n",
    "groups = [group['ROI'].values for name, group in df.groupby(['Customer_Segment', 'Language'])]\n",
    "stat, pval = levene(*groups)\n",
    "\n",
    "print(\"Levene Statistic:\", stat)\n",
    "print(\"P-value:\", pval)\n",
    "\n",
    "if pval < 0.05:\n",
    "    print(\"Variances are significantly different — assumption violated.\")\n",
    "else:\n",
    "    print(\"Variances are equal — assumption met.\")\n",
    "print(\"------------------------------\")\n",
    "print(\"Check for normality\")\n",
    "for name, group in df.groupby(['Customer_Segment']):\n",
    "    stat, pval = shapiro(group['ROI'])\n",
    "    print(f\"{name} — W-stat: {stat:.4f}, p-value: {pval:.4f}\")\n",
    "\n",
    "for name, group in df.groupby(['Language']):\n",
    "    stat, pval = shapiro(group['ROI'])\n",
    "    print(f\"{name} — W-stat: {stat:.4f}, p-value: {pval:.4f}\")"
   ]
  },
  {
   "cell_type": "code",
   "execution_count": 27,
   "id": "42fd49e0",
   "metadata": {},
   "outputs": [
    {
     "name": "stdout",
     "output_type": "stream",
     "text": [
      "                 Generalized Linear Model Regression Results                  \n",
      "==============================================================================\n",
      "Dep. Variable:                    ROI   No. Observations:               200000\n",
      "Model:                            GLM   Df Residuals:                   199975\n",
      "Model Family:                Gaussian   Df Model:                           24\n",
      "Link Function:               Identity   Scale:                          3.0084\n",
      "Method:                          IRLS   Log-Likelihood:            -3.9392e+05\n",
      "Date:                Thu, 17 Apr 2025   Deviance:                   6.0161e+05\n",
      "Time:                        06:51:59   Pearson chi2:                 6.02e+05\n",
      "No. Iterations:                     3   Pseudo R-squ. (CS):          0.0001348\n",
      "Covariance Type:            nonrobust                                         \n",
      "======================================================================================================================================\n",
      "                                                                         coef    std err          z      P>|z|      [0.025      0.975]\n",
      "--------------------------------------------------------------------------------------------------------------------------------------\n",
      "Intercept                                                              4.9906      0.019    258.238      0.000       4.953       5.029\n",
      "C(Customer_Segment)[T.Foodies]                                         0.0254      0.027      0.927      0.354      -0.028       0.079\n",
      "C(Customer_Segment)[T.Health & Wellness]                              -0.0115      0.027     -0.418      0.676      -0.065       0.042\n",
      "C(Customer_Segment)[T.Outdoor Adventurers]                            -0.0055      0.028     -0.202      0.840      -0.059       0.048\n",
      "C(Customer_Segment)[T.Tech Enthusiasts]                               -0.0078      0.027     -0.286      0.775      -0.061       0.046\n",
      "C(Language)[T.French]                                                  0.0181      0.027      0.658      0.511      -0.036       0.072\n",
      "C(Language)[T.German]                                                 -0.0048      0.027     -0.174      0.862      -0.058       0.049\n",
      "C(Language)[T.Mandarin]                                               -0.0130      0.027     -0.475      0.635      -0.067       0.041\n",
      "C(Language)[T.Spanish]                                                 0.0520      0.027      1.893      0.058      -0.002       0.106\n",
      "C(Customer_Segment)[T.Foodies]:C(Language)[T.French]                  -0.0370      0.039     -0.956      0.339      -0.113       0.039\n",
      "C(Customer_Segment)[T.Health & Wellness]:C(Language)[T.French]         0.0043      0.039      0.111      0.911      -0.072       0.081\n",
      "C(Customer_Segment)[T.Outdoor Adventurers]:C(Language)[T.French]       0.0483      0.039      1.241      0.214      -0.028       0.125\n",
      "C(Customer_Segment)[T.Tech Enthusiasts]:C(Language)[T.French]         -0.0028      0.039     -0.073      0.942      -0.079       0.073\n",
      "C(Customer_Segment)[T.Foodies]:C(Language)[T.German]                  -0.0162      0.039     -0.416      0.677      -0.092       0.060\n",
      "C(Customer_Segment)[T.Health & Wellness]:C(Language)[T.German]         0.0532      0.039      1.371      0.170      -0.023       0.129\n",
      "C(Customer_Segment)[T.Outdoor Adventurers]:C(Language)[T.German]       0.0099      0.039      0.256      0.798      -0.066       0.086\n",
      "C(Customer_Segment)[T.Tech Enthusiasts]:C(Language)[T.German]          0.0285      0.039      0.735      0.462      -0.047       0.104\n",
      "C(Customer_Segment)[T.Foodies]:C(Language)[T.Mandarin]                 0.0188      0.039      0.484      0.628      -0.057       0.095\n",
      "C(Customer_Segment)[T.Health & Wellness]:C(Language)[T.Mandarin]       0.0611      0.039      1.576      0.115      -0.015       0.137\n",
      "C(Customer_Segment)[T.Outdoor Adventurers]:C(Language)[T.Mandarin]     0.0120      0.039      0.309      0.758      -0.064       0.088\n",
      "C(Customer_Segment)[T.Tech Enthusiasts]:C(Language)[T.Mandarin]        0.0563      0.039      1.455      0.146      -0.020       0.132\n",
      "C(Customer_Segment)[T.Foodies]:C(Language)[T.Spanish]                 -0.0760      0.039     -1.959      0.050      -0.152    2.41e-05\n",
      "C(Customer_Segment)[T.Health & Wellness]:C(Language)[T.Spanish]       -0.0505      0.039     -1.303      0.193      -0.127       0.025\n",
      "C(Customer_Segment)[T.Outdoor Adventurers]:C(Language)[T.Spanish]     -0.0507      0.039     -1.300      0.194      -0.127       0.026\n",
      "C(Customer_Segment)[T.Tech Enthusiasts]:C(Language)[T.Spanish]        -0.0273      0.039     -0.704      0.481      -0.103       0.049\n",
      "======================================================================================================================================\n"
     ]
    }
   ],
   "source": [
    "#since p-value is < 0.05 the data is not normally distributed. Thus using GLM for hypothesis \n",
    "import statsmodels.api as sm\n",
    "from statsmodels.formula.api import glm\n",
    "\n",
    "model = glm('ROI ~ C(Customer_Segment) + C(Language) + C(Customer_Segment):C(Language)', \n",
    "            data=df, \n",
    "            family=sm.families.Gaussian()).fit()\n",
    "\n",
    "print(model.summary())"
   ]
  },
  {
   "cell_type": "markdown",
   "id": "5e1b8cd9",
   "metadata": {},
   "source": [
    "**The entire dataset is not normally distributed. Will still try two way Anova to examine and learn the features of ANOVA.**"
   ]
  },
  {
   "cell_type": "code",
   "execution_count": 32,
   "id": "c5525765",
   "metadata": {
    "scrolled": true
   },
   "outputs": [
    {
     "name": "stdout",
     "output_type": "stream",
     "text": [
      "                                    sum_sq        df         F    PR(>F)\n",
      "C(Location)                   4.736524e+01       4.0  1.435040  0.219416\n",
      "C(Campaign_Type)              1.400772e+01       4.0  0.424397  0.791156\n",
      "C(Location):C(Campaign_Type)  1.709725e+02      16.0  1.295003  0.189538\n",
      "Residual                      1.650104e+06  199975.0       NaN       NaN\n"
     ]
    }
   ],
   "source": [
    "#Do different Locations and Campaign Types influence Engagement Score?\n",
    "import statsmodels.api as sm\n",
    "from statsmodels.formula.api import ols\n",
    "models = ols('Engagement_Score ~ C(Location) + C(Campaign_Type) + C(Location):C(Campaign_Type)', data=df).fit()\n",
    "anova_table = sm.stats.anova_lm(models, typ=2)\n",
    "print(anova_table)"
   ]
  },
  {
   "cell_type": "markdown",
   "id": "db3331a0",
   "metadata": {},
   "source": [
    "Based on the p-values for Location, Campaign Type, and their interaction, none of these factors are statistically significant in predicting Engagement Score at the 5% significance level.\n",
    "\n",
    "Therefore, these factors (individually or together) don't have a strong impact on Engagement Score in this model."
   ]
  },
  {
   "cell_type": "code",
   "execution_count": null,
   "id": "6639fadb",
   "metadata": {},
   "outputs": [],
   "source": []
  }
 ],
 "metadata": {
  "kernelspec": {
   "display_name": "Python 3 (ipykernel)",
   "language": "python",
   "name": "python3"
  },
  "language_info": {
   "codemirror_mode": {
    "name": "ipython",
    "version": 3
   },
   "file_extension": ".py",
   "mimetype": "text/x-python",
   "name": "python",
   "nbconvert_exporter": "python",
   "pygments_lexer": "ipython3",
   "version": "3.11.5"
  }
 },
 "nbformat": 4,
 "nbformat_minor": 5
}
